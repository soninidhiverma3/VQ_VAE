{
  "nbformat": 4,
  "nbformat_minor": 0,
  "metadata": {
    "colab": {
      "provenance": []
    },
    "kernelspec": {
      "name": "python3",
      "display_name": "Python 3"
    },
    "language_info": {
      "name": "python"
    }
  },
  "cells": [
    {
      "cell_type": "code",
      "execution_count": null,
      "metadata": {
        "id": "YMYZVzVQEcj7"
      },
      "outputs": [],
      "source": [
        "import torch\n",
        "import torch.nn as nn\n",
        "import torch.optim as optim\n",
        "from torchvision import datasets, transforms\n",
        "from torch.utils.data import DataLoader\n",
        "import wandb\n",
        "\n",
        "\n",
        "wandb.init(project=\"VQVAE\", entity=\"soninidhiverma3\")\n",
        "\n",
        "# Define the Residual Block used in Encoder and Decoder\n",
        "class ResidualBlock(nn.Module):\n",
        "    def __init__(self, in_channels):\n",
        "        super(ResidualBlock, self).__init__()\n",
        "        self.block = nn.Sequential(\n",
        "            nn.ReLU(),\n",
        "            nn.Conv2d(in_channels, in_channels, kernel_size=3, padding=1, bias=False),\n",
        "            nn.ReLU(),\n",
        "            nn.Conv2d(in_channels, in_channels, kernel_size=1, bias=False)\n",
        "        )\n",
        "\n",
        "    def forward(self, x):\n",
        "        return x + self.block(x)\n",
        "\n",
        "# Encoder definition\n",
        "class Encoder(nn.Module):\n",
        "    def __init__(self, in_channels, num_hiddens, num_residual_layers, num_residual_hiddens):\n",
        "        super(Encoder, self).__init__()\n",
        "        self.initial_conv = nn.Conv2d(in_channels, num_hiddens // 2, kernel_size=4, stride=2, padding=1)\n",
        "        self.down_conv = nn.Conv2d(num_hiddens // 2, num_hiddens, kernel_size=4, stride=2, padding=1)\n",
        "        self.final_conv = nn.Conv2d(num_hiddens, num_hiddens, kernel_size=3, padding=1)\n",
        "        self.residual_blocks = nn.Sequential(\n",
        "            *[ResidualBlock(num_hiddens) for _ in range(num_residual_layers)]\n",
        "        )\n",
        "\n",
        "    def forward(self, x):\n",
        "        x = nn.ReLU()(self.initial_conv(x))\n",
        "        x = nn.ReLU()(self.down_conv(x))\n",
        "        x = self.final_conv(x)\n",
        "        return self.residual_blocks(x)\n",
        "\n",
        "# Define VectorQuantizer\n",
        "class VectorQuantizer(nn.Module):\n",
        "    def __init__(self, num_embeddings, embedding_dim, commitment_cost):\n",
        "        super(VectorQuantizer, self).__init__()\n",
        "        self.embedding_dim = embedding_dim\n",
        "        self.num_embeddings = num_embeddings\n",
        "        self.commitment_cost = commitment_cost\n",
        "        self.embedding = nn.Embedding(self.num_embeddings, self.embedding_dim)\n",
        "        self.embedding.weight.data.uniform_(-1./num_embeddings, 1./num_embeddings)\n",
        "\n",
        "    def forward(self, inputs):\n",
        "        inputs = inputs.permute(0, 2, 3, 1).contiguous()\n",
        "        input_shape = inputs.shape\n",
        "        flat_input = inputs.view(-1, self.embedding_dim)\n",
        "        distances = (torch.sum(flat_input**2, dim=1, keepdim=True)\n",
        "                     + torch.sum(self.embedding.weight**2, dim=1)\n",
        "                     - 2 * torch.matmul(flat_input, self.embedding.weight.t()))\n",
        "        encoding_indices = torch.argmin(distances, dim=1).unsqueeze(1)\n",
        "        quantized = self.embedding(encoding_indices).view(input_shape)\n",
        "        e_latent_loss = torch.mean((quantized.detach() - inputs)**2)\n",
        "        q_latent_loss = torch.mean((quantized - inputs.detach())**2)\n",
        "        loss = q_latent_loss + self.commitment_cost * e_latent_loss\n",
        "        quantized = inputs + (quantized - inputs).detach()\n",
        "        return quantized.permute(0, 3, 1, 2), loss\n",
        "\n",
        "# Decoder definition\n",
        "class Decoder(nn.Module):\n",
        "    def __init__(self, out_channels, num_hiddens, num_residual_layers, num_residual_hiddens):\n",
        "        super(Decoder, self).__init__()\n",
        "        self.up_conv_1 = nn.ConvTranspose2d(num_hiddens, num_hiddens // 2, kernel_size=4, stride=2, padding=1)\n",
        "        self.up_conv_2 = nn.ConvTranspose2d(num_hiddens // 2, out_channels, kernel_size=4, stride=2, padding=1)\n",
        "        self.residual_blocks = nn.Sequential(\n",
        "            *[ResidualBlock(num_hiddens) for _ in range(num_residual_layers)]\n",
        "        )\n",
        "\n",
        "    def forward(self, x):\n",
        "        x = self.residual_blocks(x)\n",
        "        x = nn.ReLU()(self.up_conv_1(x))\n",
        "        return nn.Tanh()(self.up_conv_2(x))\n",
        "\n",
        "# VQVAE Model\n",
        "class VQVAE(nn.Module):\n",
        "    def __init__(self, in_channels, num_hiddens, num_residual_layers, num_residual_hiddens, num_embeddings, embedding_dim, commitment_cost):\n",
        "        super(VQVAE, self).__init__()\n",
        "        self.encoder = Encoder(in_channels, num_hiddens, num_residual_layers, num_residual_hiddens)\n",
        "        self.vq = VectorQuantizer(num_embeddings, embedding_dim, commitment_cost)\n",
        "        self.decoder = Decoder(in_channels, num_hiddens, num_residual_layers, num_residual_hiddens)\n",
        "\n",
        "    def forward(self, x):\n",
        "        encoded = self.encoder(x)\n",
        "        quantized, vq_loss = self.vq(encoded)\n",
        "        decoded = self.decoder(quantized)\n",
        "        return decoded, vq_loss\n",
        "\n",
        "# Data Loading\n",
        "transform = transforms.Compose([\n",
        "    transforms.Resize((128, 128)),\n",
        "    transforms.RandomHorizontalFlip(),\n",
        "    transforms.RandomCrop(128, padding=4),\n",
        "    transforms.ColorJitter(),\n",
        "    transforms.ToTensor(),\n",
        "    transforms.Normalize(mean=[0.5, 0.5, 0.5], std=[0.5, 0.5, 0.5])\n",
        "])\n",
        "dataset = datasets.ImageFolder(root='/home/planck/NIDHI_SONI/DL_Ass/ass4_data/Train_data', transform=transform)\n",
        "dataloader = DataLoader(dataset, batch_size=32, shuffle=True)\n",
        "\n",
        "# Training\n",
        "device = torch.device(\"cuda\" if torch.cuda.is_available() else \"cpu\")\n",
        "model = VQVAE(in_channels=3, num_hiddens=128, num_residual_layers=2, num_residual_hiddens=64, num_embeddings=256, embedding_dim=64, commitment_cost=0.25).to(device)\n",
        "optimizer = optim.Adam(model.parameters(), lr=0.001)\n",
        "criterion = nn.MSELoss()\n",
        "\n",
        "for epoch in range(10):  # Number of epochs\n",
        "    for inputs, _ in dataloader:\n",
        "        inputs = inputs.to(device)\n",
        "        optimizer.zero_grad()\n",
        "        outputs, vq_loss = model(inputs)\n",
        "        recon_loss = criterion(outputs, inputs)\n",
        "        loss = recon_loss + vq_loss\n",
        "        loss.backward()\n",
        "        optimizer.step()\n",
        "        wandb.log({\"Reconstruction Loss\": recon_loss.item(), \"VQ Loss\": vq_loss.item(), \"Total Loss\": loss.item()})\n",
        "    print(f'Epoch {epoch+1}, Reconstruction Loss: {recon_loss.item()}, VQ Loss: {vq_loss.item()}')\n"
      ]
    },
    {
      "cell_type": "code",
      "source": [
        "\n",
        "# Training\n",
        "device = torch.device(\"cuda\" if torch.cuda.is_available() else \"cpu\")\n",
        "model = VQVAE(in_channels=3, num_hiddens=128, num_residual_layers=2, num_residual_hiddens=64, num_embeddings=256, embedding_dim=64, commitment_cost=0.25).to(device)\n",
        "optimizer = optim.Adam(model.parameters(), lr=0.001)\n",
        "criterion = nn.MSELoss()\n"
      ],
      "metadata": {
        "id": "jyK5NBTVNiuZ"
      },
      "execution_count": null,
      "outputs": []
    },
    {
      "cell_type": "code",
      "source": [
        "\n",
        "from torchvision.utils import save_image\n",
        "import os\n",
        "import os\n",
        "import matplotlib.pyplot as plt\n",
        "from torchvision.utils import save_image\n",
        "\n",
        "# Function to display images\n",
        "def show_images(original, reconstructed, n=5):\n",
        "    plt.figure(figsize=(10, 4))\n",
        "    for i in range(n):\n",
        "        # Display original images\n",
        "        ax = plt.subplot(2, n, i + 1)\n",
        "        plt.imshow(original[i].permute(1, 2, 0).cpu().numpy() * 0.5 + 0.5)\n",
        "        plt.title(\"Original\")\n",
        "        plt.axis(\"off\")\n",
        "\n",
        "        # Display reconstructed images\n",
        "        ax = plt.subplot(2, n, i + 1 + n)\n",
        "        plt.imshow(reconstructed[i].permute(1, 2, 0).detach().cpu().numpy() * 0.5 + 0.5)\n",
        "        plt.title(\"Reconstructed\")\n",
        "        plt.axis(\"off\")\n",
        "    plt.show()\n",
        "\n",
        "def train_dataloader(model, dataloader, optimizer, criterion, device, num_epochs=10, save_dir='/home/planck/NIDHI_SONI/DL_Ass/saved_models/save_images'):\n",
        "    if not os.path.exists(save_dir):\n",
        "        os.makedirs(save_dir)\n",
        "\n",
        "    for epoch in range(num_epochs):\n",
        "        for inputs, _ in dataloader:\n",
        "            inputs = inputs.to(device)\n",
        "            optimizer.zero_grad()\n",
        "            outputs, vq_loss = model(inputs)\n",
        "            recon_loss = criterion(outputs, inputs)\n",
        "            loss = recon_loss + vq_loss\n",
        "            loss.backward()\n",
        "            optimizer.step()\n",
        "\n",
        "        # Visualize and save images at the end of each epoch\n",
        "        if epoch % 1 == 0:\n",
        "            show_images(inputs[:5], outputs[:5])\n",
        "            save_image(outputs[:5].data.cpu(), os.path.join(save_dir, f'epoch_{epoch+1}_reconstructions.png'), nrow=5, normalize=True)\n",
        "\n",
        "        print(f'Epoch {epoch+1}, Reconstruction Loss: {recon_loss.item()}, VQ Loss: {vq_loss.item()}')\n",
        "\n",
        "\n",
        "device = torch.device(\"cuda\" if torch.cuda.is_available() else \"cpu\")\n",
        "model = VQVAE(in_channels=3, num_hiddens=128, num_residual_layers=2, num_residual_hiddens=64, num_embeddings=256, embedding_dim=64, commitment_cost=0.25).to(device)\n",
        "optimizer = optim.Adam(model.parameters(), lr=0.001)\n",
        "criterion = nn.MSELoss()\n",
        "\n",
        "\n",
        "\n",
        "train_dataloader(model, dataloader, optimizer, criterion, device, num_epochs=10, save_dir='/home/planck/NIDHI_SONI/DL_Ass/saved_models/save_images')\n"
      ],
      "metadata": {
        "id": "Mg0FN4azNydw"
      },
      "execution_count": null,
      "outputs": []
    },
    {
      "cell_type": "code",
      "source": [
        "from PIL import Image\n",
        "import os\n",
        "import matplotlib.pyplot as plt\n",
        "\n",
        "def display_saved_images(directory, num_images_per_row=5):\n",
        "    # List all PNG files in the directory\n",
        "    image_files = [f for f in os.listdir(directory) if f.endswith('.png')]\n",
        "    image_files.sort()  # Sorting to maintain order\n",
        "\n",
        "    # Calculate number of rows needed\n",
        "    num_rows = len(image_files) // num_images_per_row + (1 if len(image_files) % num_images_per_row != 0 else 0)\n",
        "\n",
        "    plt.figure(figsize=(num_images_per_row * 4, num_rows * 4))\n",
        "\n",
        "    for index, file in enumerate(image_files):\n",
        "        plt.subplot(num_rows, num_images_per_row, index + 1)\n",
        "        img_path = os.path.join(directory, file)\n",
        "        image = Image.open(img_path)\n",
        "        plt.imshow(image)\n",
        "        plt.title(f\"Image {index + 1}\")\n",
        "        plt.axis('off')\n",
        "\n",
        "    plt.tight_layout()\n",
        "    plt.show()\n",
        "\n",
        "# Example usage\n",
        "display_saved_images('/home/planck/NIDHI_SONI/DL_Ass/saved_models/save_images')\n"
      ],
      "metadata": {
        "id": "mqUl18FmOMTq"
      },
      "execution_count": null,
      "outputs": []
    },
    {
      "cell_type": "code",
      "source": [
        "from torchvision.utils import make_grid\n",
        "import matplotlib.pyplot as plt\n",
        "\n",
        "\n",
        "def show_batch(dataloader):\n",
        "    for images, _ in dataloader:  # Get one batch of images\n",
        "        fig, ax = plt.subplots(figsize=(18, 10))\n",
        "        ax.set_xticks([])\n",
        "        ax.set_yticks([])\n",
        "\n",
        "        ax.imshow(make_grid(images, nrow=16).permute(1, 2, 0) * 0.5 + 0.5)\n",
        "        break  # only want to see one batch\n",
        "\n",
        "# Call the function to display the batch\n",
        "show_batch(dataloader)\n"
      ],
      "metadata": {
        "id": "rTjpaq2wOOK5"
      },
      "execution_count": null,
      "outputs": []
    },
    {
      "cell_type": "code",
      "source": [
        "import os\n",
        "\n",
        "\n",
        "directory = \"/home/planck/NIDHI_SONI/DL_Ass/saved_models/\"\n",
        "\n",
        "\n",
        "os.makedirs(directory, exist_ok=True)\n",
        "\n",
        "# Save trained VQ-VAE model\n",
        "torch.save(model.state_dict(), directory + \"vq_vae_model.pth\")\n"
      ],
      "metadata": {
        "id": "dw8CmoR1OW_E"
      },
      "execution_count": null,
      "outputs": []
    },
    {
      "cell_type": "code",
      "source": [
        "vq_vae_model = torch.load(\"/home/planck/NIDHI_SONI/DL_Ass/saved_models/vq_vae_model.pth\")\n"
      ],
      "metadata": {
        "id": "-ZD3xtW3OXx5"
      },
      "execution_count": null,
      "outputs": []
    },
    {
      "cell_type": "code",
      "source": [
        "test_dataset = datasets.ImageFolder(root='/home/planck/NIDHI_SONI/DL_Ass/ass4_data/Train_data', transform=transform)\n",
        "\n",
        "\n",
        "test_dataloader = DataLoader(test_dataset, batch_size=32, shuffle=False)\n",
        "\n"
      ],
      "metadata": {
        "id": "RQu0JRE4OfkK"
      },
      "execution_count": null,
      "outputs": []
    },
    {
      "cell_type": "code",
      "source": [
        "import torch\n",
        "import matplotlib.pyplot as plt\n",
        "from torchvision.utils import make_grid\n",
        "\n",
        "def visualize_real_and_generated(model, dataloader, device):\n",
        "    model.eval()\n",
        "    with torch.no_grad():\n",
        "        for images, _ in dataloader:\n",
        "            images = images.to(device)\n",
        "            generated_images, _ = model(images)\n",
        "\n",
        "\n",
        "            comparison = torch.cat([images, generated_images])\n",
        "            # Display the images\n",
        "            plt.figure(figsize=(24, 12))\n",
        "            plt.imshow(make_grid(comparison.cpu(), nrow=16).permute(1, 2, 0) * 0.5 + 0.5)\n",
        "            plt.axis('off')\n",
        "            plt.show()\n",
        "            break  # Only show one batch\n",
        "\n",
        "# Example usage\n",
        "device = torch.device(\"cuda\" if torch.cuda.is_available() else \"cpu\")\n",
        "visualize_real_and_generated(model, test_dataloader, device)\n"
      ],
      "metadata": {
        "id": "UEQ3BrqEPGCd"
      },
      "execution_count": null,
      "outputs": []
    },
    {
      "cell_type": "code",
      "source": [
        "\n",
        "vq_vae_model = VQVAE(in_channels=3, num_hiddens=128, num_residual_layers=2, num_residual_hiddens=32, num_embeddings=256, embedding_dim=64, commitment_cost=0.25)\n",
        "\n",
        "# Load the model state\n",
        "state_dict = torch.load(\"/home/planck/NIDHI_SONI/DL_Ass/saved_models/vq_vae_model.pth\")\n",
        "vq_vae_model.load_state_dict(state_dict)\n",
        "vq_vae_model.eval()\n",
        "\n",
        "\n"
      ],
      "metadata": {
        "id": "ssF-JIh2PLXi"
      },
      "execution_count": null,
      "outputs": []
    },
    {
      "cell_type": "code",
      "source": [
        "import torch\n",
        "import matplotlib.pyplot as plt\n",
        "from torchvision.utils import make_grid\n",
        "\n",
        "def visualize_real_and_generated(model, dataloader, device):\n",
        "    model.eval()\n",
        "    with torch.no_grad():\n",
        "        for images, _ in dataloader:\n",
        "            images = images.to(device)\n",
        "            generated_images, _ = model(images)\n",
        "\n",
        "\n",
        "            comparison = torch.cat([images, generated_images])\n",
        "            # Display the images\n",
        "            plt.figure(figsize=(24, 12))\n",
        "            plt.imshow(make_grid(comparison.cpu(), nrow=16).permute(1, 2, 0) * 0.5 + 0.5)\n",
        "            plt.axis('off')\n",
        "            plt.show()\n",
        "            break  # Only show one batch\n",
        "\n",
        "# Example usage\n",
        "device = torch.device(\"cuda\" if torch.cuda.is_available() else \"cpu\")\n",
        "visualize_real_and_generated(model, test_dataloader, device)\n"
      ],
      "metadata": {
        "id": "hvx6NdyYOgtq"
      },
      "execution_count": null,
      "outputs": []
    },
    {
      "cell_type": "code",
      "source": [
        "import os\n",
        "\n",
        "# Define the directory path\n",
        "directory = \"/home/planck/NIDHI_SONI/DL_Ass/saved_models/\"\n",
        "\n",
        "# Create the directory if it doesn't exist\n",
        "os.makedirs(directory, exist_ok=True)\n",
        "\n",
        "# Save trained VQ-VAE model\n",
        "torch.save(model.state_dict(), directory + \"vq_vae_model.pth\")\n"
      ],
      "metadata": {
        "id": "UOS28Z2SI2vH"
      },
      "execution_count": null,
      "outputs": []
    },
    {
      "cell_type": "code",
      "source": [
        "vq_vae_model = torch.load(\"/home/planck/NIDHI_SONI/DL_Ass/saved_models/vq_vae_model.pth\")\n"
      ],
      "metadata": {
        "id": "0KXVfzyyI7Z8"
      },
      "execution_count": null,
      "outputs": []
    },
    {
      "cell_type": "code",
      "source": [
        "import torch\n",
        "import torch.nn as nn\n",
        "import torch.optim as optim\n",
        "from torchvision import datasets, transforms\n",
        "from torch.utils.data import DataLoader\n",
        "import os\n",
        "#import wandb\n",
        "from torchvision.utils import save_image\n",
        "# Update PixelCNN architecture to ensure the final output matches expected quantized vector channels\n",
        "class PixelCNN(nn.Module):\n",
        "    def __init__(self, input_dim, dim=256, output_channels=128):  # Adjust `output_channels` to match VQVAE output\n",
        "        super(PixelCNN, self).__init__()\n",
        "        self.dim = dim\n",
        "        self.input_dim = input_dim\n",
        "        self.output_channels = output_channels\n",
        "        self.layers = nn.Sequential(\n",
        "            nn.Conv2d(self.input_dim, self.dim, kernel_size=7, padding=3, padding_mode='circular'),\n",
        "            nn.ReLU(),\n",
        "            nn.Conv2d(self.dim, self.dim, kernel_size=7, padding=3, padding_mode='circular'),\n",
        "            nn.ReLU(),\n",
        "            nn.Conv2d(self.dim, self.dim, kernel_size=7, padding=3, padding_mode='circular'),\n",
        "            nn.ReLU(),\n",
        "            nn.Conv2d(self.dim, self.output_channels, kernel_size=1)  # Ensure this matches the channels of VQVAE output\n",
        "        )\n",
        "\n",
        "    def forward(self, x):\n",
        "        return self.layers(x)\n",
        "\n",
        "# Ensure the training function handles the reshaping if necessary\n",
        "def train_pixelcnn(pixelcnn, dataloader, vqvae, optimizer, device, epochs=10):\n",
        "    pixelcnn.train()\n",
        "    for epoch in range(epochs):\n",
        "        total_loss = 0\n",
        "        for images, _ in dataloader:\n",
        "            images = images.to(device)\n",
        "\n",
        "            # Encode and quantize images using VQVAE\n",
        "            with torch.no_grad():\n",
        "                encoded = vqvae.encoder(images)\n",
        "                quantized, _ = vqvae.vq(encoded)  # This is the correct input for PixelCNN\n",
        "\n",
        "            optimizer.zero_grad()\n",
        "            outputs = pixelcnn(quantized)\n",
        "            loss = nn.MSELoss()(outputs, quantized)  # Ensure dimensions match here\n",
        "            loss.backward()\n",
        "            optimizer.step()\n",
        "\n",
        "            total_loss += loss.item()\n",
        "\n",
        "        print(f'Epoch {epoch+1}: Loss: {total_loss / len(dataloader)}')\n"
      ],
      "metadata": {
        "id": "kUrMBPMiI-pO"
      },
      "execution_count": null,
      "outputs": []
    },
    {
      "cell_type": "code",
      "source": [
        "def generate_images(pixelcnn, vqvae, device, num_images=10):\n",
        "    pixelcnn.eval()  # Set PixelCNN to evaluation mode\n",
        "    with torch.no_grad():\n",
        "\n",
        "        latent_vectors = torch.randn(num_images, vqvae.vq.embedding_dim, 1, 1).to(device)\n",
        "\n",
        "        decoded_images = vqvae.decoder(latent_vectors)\n",
        "\n",
        "        decoded_images = torch.cat([decoded_images] * pixelcnn.input_dim, dim=1)\n",
        "\n",
        "        generated_images = pixelcnn(decoded_images)\n",
        "    return generated_images\n"
      ],
      "metadata": {
        "id": "aySTRyEvU2Wq"
      },
      "execution_count": null,
      "outputs": []
    },
    {
      "cell_type": "code",
      "source": [
        "transform = transforms.Compose([\n",
        "    transforms.Resize((128, 128)),\n",
        "    transforms.ToTensor()\n",
        "])\n",
        "\n",
        "dataset = datasets.ImageFolder(root='/home/planck/NIDHI_SONI/DL_Ass/ass4_data/Train_data', transform=transform)\n",
        "dataloader = DataLoader(dataset, batch_size=32, shuffle=True)\n"
      ],
      "metadata": {
        "id": "vWt_p5juU6o-"
      },
      "execution_count": null,
      "outputs": []
    },
    {
      "cell_type": "code",
      "source": [
        "device = torch.device(\"cuda\" if torch.cuda.is_available() else \"cpu\")\n",
        "\n",
        "\n",
        "vqvae = VQVAE(\n",
        "    in_channels=3,\n",
        "    num_hiddens=128,\n",
        "    num_residual_layers=2,\n",
        "    num_residual_hiddens=64,\n",
        "    num_embeddings=256,\n",
        "    embedding_dim=128,\n",
        "    commitment_cost=0.25\n",
        ").to(device)\n",
        "\n",
        "pixelcnn = PixelCNN(input_dim=128, dim=256).to(device)\n",
        "\n",
        "optimizer = optim.Adam(pixelcnn.parameters(), lr=0.001)"
      ],
      "metadata": {
        "id": "GCcbCFqXU-Mo"
      },
      "execution_count": null,
      "outputs": []
    },
    {
      "cell_type": "code",
      "source": [
        "train_pixelcnn(pixelcnn, dataloader, vqvae, optimizer, device)\n",
        "\n",
        "# Generate and save images\n",
        "generated_images = generate_images(pixelcnn, vqvae, device, num_images=10)\n",
        "save_image(generated_images, '/path/to/save/generated_images.png', nrow=5, normalize=True)\n",
        "torch.save(pixelcnn.state_dict(), '/path/to/save/pixelcnn_model.pth')"
      ],
      "metadata": {
        "id": "G0Q_aqFtVCQT"
      },
      "execution_count": null,
      "outputs": []
    }
  ]
}